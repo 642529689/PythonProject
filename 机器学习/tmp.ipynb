{
 "cells": [
  {
   "cell_type": "code",
   "execution_count": 102,
   "metadata": {},
   "outputs": [],
   "source": [
    "import random\n",
    "import time"
   ]
  },
  {
   "cell_type": "code",
   "execution_count": 103,
   "metadata": {},
   "outputs": [],
   "source": [
    "class Solution:\n",
    "    def twoSum(self, nums, target):\n",
    "        typeA = []\n",
    "        typeB = []\n",
    "        typeC = []\n",
    "        for i,x in enumerate(nums):\n",
    "            if x > target:\n",
    "                typeA.append(i)\n",
    "            elif x < 0:\n",
    "                typeB.append(i)\n",
    "            else:\n",
    "                typeC.append(i)\n",
    "\n",
    "        # 0 到 target 之间\n",
    "        i = 0        \n",
    "        while i < len(typeC):\n",
    "            tmp = target - nums[typeC[i]]\n",
    "            j = i + 1\n",
    "            while j < len(typeC):\n",
    "                if tmp == nums[typeC[j]]:\n",
    "                    tmp = [typeC[i],typeC[j]]\n",
    "                    return tmp\n",
    "                j += 1\n",
    "            i += 1\n",
    "\n",
    "        # 不在 0 到 target 之间\n",
    "        i = 0        \n",
    "        while i < len(typeA):\n",
    "            j = 0\n",
    "            while j < len(typeB):\n",
    "                if nums[typeA[i]] + nums[typeB[j]] == target:\n",
    "                    tmp = [typeA[i],typeB[j]]\n",
    "                    return tmp\n",
    "                j += 1\n",
    "            i += 1"
   ]
  },
  {
   "cell_type": "code",
   "execution_count": 104,
   "metadata": {},
   "outputs": [],
   "source": [
    "class SolutionA:\n",
    "    def lengthOfLongestSubstring(self, s: str) -> int:\n",
    "        tmp = ''\n",
    "        out = ''\n",
    "        for obj in s:\n",
    "            if obj in tmp:\n",
    "                if len(tmp) > len(out):\n",
    "                    out = tmp\n",
    "                tmp = obj\n",
    "\n",
    "            else:\n",
    "                tmp += obj\n",
    "        return len(out)"
   ]
  },
  {
   "cell_type": "code",
   "execution_count": 105,
   "metadata": {},
   "outputs": [],
   "source": [
    "class SolutionB:\n",
    "    def lengthOfLongestSubstring(self, s: str) -> int:\n",
    "        # 哈希集合，记录每个字符是否出现过\n",
    "        occ = set()\n",
    "        n = len(s)\n",
    "        # 右指针，初始值为 -1，相当于我们在字符串的左边界的左侧，还没有开始移动\n",
    "        rk, ans = -1, 0\n",
    "        for i in range(n):\n",
    "            if i != 0:\n",
    "                # 左指针向右移动一格，移除一个字符\n",
    "                occ.remove(s[i - 1])\n",
    "            while rk + 1 < n and s[rk + 1] not in occ:\n",
    "                # 不断地移动右指针\n",
    "                occ.add(s[rk + 1])\n",
    "                rk += 1\n",
    "            # 第 i 到 rk 个字符是一个极长的无重复字符子串\n",
    "            ans = max(ans, rk - i + 1)\n",
    "        return ans"
   ]
  },
  {
   "cell_type": "code",
   "execution_count": 109,
   "metadata": {},
   "outputs": [
    {
     "name": "stdout",
     "output_type": "stream",
     "text": [
      "CPU times: total: 0 ns\n",
      "Wall time: 0 ns\n",
      "0\n",
      "CPU times: total: 0 ns\n",
      "Wall time: 0 ns\n",
      "0\n"
     ]
    }
   ],
   "source": [
    "nums = \"\"\n",
    "soA = SolutionA()\n",
    "soB = SolutionB()\n",
    "%time out = soA.lengthOfLongestSubstring(nums)\n",
    "print(out)\n",
    "%time out = soB.lengthOfLongestSubstring(nums)\n",
    "print(out)"
   ]
  }
 ],
 "metadata": {
  "kernelspec": {
   "display_name": "Python 3",
   "language": "python",
   "name": "python3"
  },
  "language_info": {
   "codemirror_mode": {
    "name": "ipython",
    "version": 3
   },
   "file_extension": ".py",
   "mimetype": "text/x-python",
   "name": "python",
   "nbconvert_exporter": "python",
   "pygments_lexer": "ipython3",
   "version": "3.9.7"
  },
  "orig_nbformat": 4
 },
 "nbformat": 4,
 "nbformat_minor": 2
}
